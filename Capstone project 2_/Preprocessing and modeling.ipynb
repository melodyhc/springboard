{
 "cells": [
  {
   "cell_type": "code",
   "execution_count": 1,
   "id": "8970e300-6826-424e-8721-aecd6cd93133",
   "metadata": {},
   "outputs": [],
   "source": [
    "#import packages\n",
    "import numpy as np\n",
    "import pandas as pd\n",
    "import matplotlib.pyplot as plt\n",
    "import seaborn as sns\n",
    "%matplotlib inline\n",
    "from sklearn.linear_model import LinearRegression\n",
    "from sklearn.model_selection import train_test_split\n",
    "from sklearn.ensemble import RandomForestRegressor"
   ]
  },
  {
   "cell_type": "code",
   "execution_count": 2,
   "id": "671a5543-f9fc-4f07-8bda-76e6f6c792e9",
   "metadata": {},
   "outputs": [
    {
     "data": {
      "text/plain": [
       "'C:\\\\Users\\\\seren\\\\Downloads\\\\Springboard\\\\capstone project 2\\\\Capstone project 2_'"
      ]
     },
     "execution_count": 2,
     "metadata": {},
     "output_type": "execute_result"
    }
   ],
   "source": [
    "pwd"
   ]
  },
  {
   "cell_type": "code",
   "execution_count": 3,
   "id": "38241f9c-0953-4db9-844f-d81387cd7869",
   "metadata": {},
   "outputs": [],
   "source": [
    "df = pd.read_csv('California_Houses.csv')"
   ]
  },
  {
   "cell_type": "code",
   "execution_count": 4,
   "id": "a73ea972-66eb-40a5-b902-75ae3cf1bb51",
   "metadata": {},
   "outputs": [
    {
     "name": "stdout",
     "output_type": "stream",
     "text": [
      "<class 'pandas.core.frame.DataFrame'>\n",
      "RangeIndex: 20640 entries, 0 to 20639\n",
      "Data columns (total 14 columns):\n",
      " #   Column                    Non-Null Count  Dtype  \n",
      "---  ------                    --------------  -----  \n",
      " 0   Median_House_Value        20640 non-null  float64\n",
      " 1   Median_Income             20640 non-null  float64\n",
      " 2   Median_Age                20640 non-null  int64  \n",
      " 3   Tot_Rooms                 20640 non-null  int64  \n",
      " 4   Tot_Bedrooms              20640 non-null  int64  \n",
      " 5   Population                20640 non-null  int64  \n",
      " 6   Households                20640 non-null  int64  \n",
      " 7   Latitude                  20640 non-null  float64\n",
      " 8   Longitude                 20640 non-null  float64\n",
      " 9   Distance_to_coast         20640 non-null  float64\n",
      " 10  Distance_to_LA            20640 non-null  float64\n",
      " 11  Distance_to_SanDiego      20640 non-null  float64\n",
      " 12  Distance_to_SanJose       20640 non-null  float64\n",
      " 13  Distance_to_SanFrancisco  20640 non-null  float64\n",
      "dtypes: float64(9), int64(5)\n",
      "memory usage: 2.2 MB\n"
     ]
    }
   ],
   "source": [
    "df.info()"
   ]
  },
  {
   "cell_type": "code",
   "execution_count": 5,
   "id": "b225b880-71a7-4f6c-ab52-074f6a5153c3",
   "metadata": {},
   "outputs": [],
   "source": [
    "#X = df.drop('Median_House_Value', axis=1).values\n",
    "#y = df['Median_House_Value'].values\n"
   ]
  },
  {
   "cell_type": "code",
   "execution_count": 6,
   "id": "1572187e-e51a-4e03-9d01-eb7a09aaf293",
   "metadata": {},
   "outputs": [
    {
     "data": {
      "text/html": [
       "<div>\n",
       "<style scoped>\n",
       "    .dataframe tbody tr th:only-of-type {\n",
       "        vertical-align: middle;\n",
       "    }\n",
       "\n",
       "    .dataframe tbody tr th {\n",
       "        vertical-align: top;\n",
       "    }\n",
       "\n",
       "    .dataframe thead th {\n",
       "        text-align: right;\n",
       "    }\n",
       "</style>\n",
       "<table border=\"1\" class=\"dataframe\">\n",
       "  <thead>\n",
       "    <tr style=\"text-align: right;\">\n",
       "      <th></th>\n",
       "      <th>Median_Income</th>\n",
       "      <th>Median_Age</th>\n",
       "      <th>Tot_Rooms</th>\n",
       "      <th>Tot_Bedrooms</th>\n",
       "      <th>Population</th>\n",
       "      <th>Households</th>\n",
       "      <th>Latitude</th>\n",
       "      <th>Longitude</th>\n",
       "      <th>Distance_to_coast</th>\n",
       "      <th>Distance_to_LA</th>\n",
       "      <th>Distance_to_SanDiego</th>\n",
       "      <th>Distance_to_SanJose</th>\n",
       "      <th>Distance_to_SanFrancisco</th>\n",
       "    </tr>\n",
       "  </thead>\n",
       "  <tbody>\n",
       "    <tr>\n",
       "      <th>0</th>\n",
       "      <td>8.3252</td>\n",
       "      <td>41</td>\n",
       "      <td>880</td>\n",
       "      <td>129</td>\n",
       "      <td>322</td>\n",
       "      <td>126</td>\n",
       "      <td>37.88</td>\n",
       "      <td>-122.23</td>\n",
       "      <td>9263.040773</td>\n",
       "      <td>556529.158342</td>\n",
       "      <td>735501.806984</td>\n",
       "      <td>67432.517001</td>\n",
       "      <td>21250.213767</td>\n",
       "    </tr>\n",
       "    <tr>\n",
       "      <th>1</th>\n",
       "      <td>8.3014</td>\n",
       "      <td>21</td>\n",
       "      <td>7099</td>\n",
       "      <td>1106</td>\n",
       "      <td>2401</td>\n",
       "      <td>1138</td>\n",
       "      <td>37.86</td>\n",
       "      <td>-122.22</td>\n",
       "      <td>10225.733072</td>\n",
       "      <td>554279.850069</td>\n",
       "      <td>733236.884360</td>\n",
       "      <td>65049.908574</td>\n",
       "      <td>20880.600400</td>\n",
       "    </tr>\n",
       "    <tr>\n",
       "      <th>2</th>\n",
       "      <td>7.2574</td>\n",
       "      <td>52</td>\n",
       "      <td>1467</td>\n",
       "      <td>190</td>\n",
       "      <td>496</td>\n",
       "      <td>177</td>\n",
       "      <td>37.85</td>\n",
       "      <td>-122.24</td>\n",
       "      <td>8259.085109</td>\n",
       "      <td>554610.717069</td>\n",
       "      <td>733525.682937</td>\n",
       "      <td>64867.289833</td>\n",
       "      <td>18811.487450</td>\n",
       "    </tr>\n",
       "    <tr>\n",
       "      <th>3</th>\n",
       "      <td>5.6431</td>\n",
       "      <td>52</td>\n",
       "      <td>1274</td>\n",
       "      <td>235</td>\n",
       "      <td>558</td>\n",
       "      <td>219</td>\n",
       "      <td>37.85</td>\n",
       "      <td>-122.25</td>\n",
       "      <td>7768.086571</td>\n",
       "      <td>555194.266086</td>\n",
       "      <td>734095.290744</td>\n",
       "      <td>65287.138412</td>\n",
       "      <td>18031.047568</td>\n",
       "    </tr>\n",
       "    <tr>\n",
       "      <th>4</th>\n",
       "      <td>3.8462</td>\n",
       "      <td>52</td>\n",
       "      <td>1627</td>\n",
       "      <td>280</td>\n",
       "      <td>565</td>\n",
       "      <td>259</td>\n",
       "      <td>37.85</td>\n",
       "      <td>-122.25</td>\n",
       "      <td>7768.086571</td>\n",
       "      <td>555194.266086</td>\n",
       "      <td>734095.290744</td>\n",
       "      <td>65287.138412</td>\n",
       "      <td>18031.047568</td>\n",
       "    </tr>\n",
       "  </tbody>\n",
       "</table>\n",
       "</div>"
      ],
      "text/plain": [
       "   Median_Income  Median_Age  Tot_Rooms  Tot_Bedrooms  Population  Households  \\\n",
       "0         8.3252          41        880           129         322         126   \n",
       "1         8.3014          21       7099          1106        2401        1138   \n",
       "2         7.2574          52       1467           190         496         177   \n",
       "3         5.6431          52       1274           235         558         219   \n",
       "4         3.8462          52       1627           280         565         259   \n",
       "\n",
       "   Latitude  Longitude  Distance_to_coast  Distance_to_LA  \\\n",
       "0     37.88    -122.23        9263.040773   556529.158342   \n",
       "1     37.86    -122.22       10225.733072   554279.850069   \n",
       "2     37.85    -122.24        8259.085109   554610.717069   \n",
       "3     37.85    -122.25        7768.086571   555194.266086   \n",
       "4     37.85    -122.25        7768.086571   555194.266086   \n",
       "\n",
       "   Distance_to_SanDiego  Distance_to_SanJose  Distance_to_SanFrancisco  \n",
       "0         735501.806984         67432.517001              21250.213767  \n",
       "1         733236.884360         65049.908574              20880.600400  \n",
       "2         733525.682937         64867.289833              18811.487450  \n",
       "3         734095.290744         65287.138412              18031.047568  \n",
       "4         734095.290744         65287.138412              18031.047568  "
      ]
     },
     "execution_count": 6,
     "metadata": {},
     "output_type": "execute_result"
    }
   ],
   "source": [
    "X = df.iloc[:,1:]\n",
    "X.head()"
   ]
  },
  {
   "cell_type": "code",
   "execution_count": 7,
   "id": "ef6a5e02-2c6b-4601-b799-8e2eb40f25ee",
   "metadata": {},
   "outputs": [
    {
     "data": {
      "text/plain": [
       "0    452600.0\n",
       "1    358500.0\n",
       "2    352100.0\n",
       "3    341300.0\n",
       "4    342200.0\n",
       "Name: Median_House_Value, dtype: float64"
      ]
     },
     "execution_count": 7,
     "metadata": {},
     "output_type": "execute_result"
    }
   ],
   "source": [
    "y = df.iloc[:, 0]\n",
    "y.head()"
   ]
  },
  {
   "cell_type": "code",
   "execution_count": 8,
   "id": "3e8a4de0-f8ca-4a53-9649-0da300872d74",
   "metadata": {},
   "outputs": [],
   "source": [
    "#split data into train 80% and test 20%\n",
    "X_train, X_test, y_train, y_test = train_test_split(X, y, test_size=0.2)"
   ]
  },
  {
   "cell_type": "code",
   "execution_count": 9,
   "id": "ce646be0-3a5d-4980-9bbd-2b56c070e46b",
   "metadata": {},
   "outputs": [
    {
     "name": "stdout",
     "output_type": "stream",
     "text": [
      "(16512, 13) (16512,)\n",
      "(4128, 13) (4128,)\n"
     ]
    }
   ],
   "source": [
    "print(X_train.shape, y_train.shape)\n",
    "print(X_test.shape, y_test.shape)"
   ]
  },
  {
   "cell_type": "code",
   "execution_count": 10,
   "id": "df06208c-60fe-42a6-9501-22a8c38c8b93",
   "metadata": {},
   "outputs": [],
   "source": [
    "#future scaling\n",
    "from sklearn.preprocessing import StandardScaler\n",
    "sc = StandardScaler()\n",
    "X_train.iloc[:, :] = sc.fit_transform(X_train.iloc[:, :])\n",
    "X_test.iloc[:, :] = sc.transform(X_test.iloc[:, :])"
   ]
  },
  {
   "cell_type": "code",
   "execution_count": 11,
   "id": "60cd102d-ed17-48f8-aacc-989dc2b4a5c5",
   "metadata": {},
   "outputs": [
    {
     "data": {
      "text/html": [
       "<div>\n",
       "<style scoped>\n",
       "    .dataframe tbody tr th:only-of-type {\n",
       "        vertical-align: middle;\n",
       "    }\n",
       "\n",
       "    .dataframe tbody tr th {\n",
       "        vertical-align: top;\n",
       "    }\n",
       "\n",
       "    .dataframe thead th {\n",
       "        text-align: right;\n",
       "    }\n",
       "</style>\n",
       "<table border=\"1\" class=\"dataframe\">\n",
       "  <thead>\n",
       "    <tr style=\"text-align: right;\">\n",
       "      <th></th>\n",
       "      <th>Median_Income</th>\n",
       "      <th>Median_Age</th>\n",
       "      <th>Tot_Rooms</th>\n",
       "      <th>Tot_Bedrooms</th>\n",
       "      <th>Population</th>\n",
       "      <th>Households</th>\n",
       "      <th>Latitude</th>\n",
       "      <th>Longitude</th>\n",
       "      <th>Distance_to_coast</th>\n",
       "      <th>Distance_to_LA</th>\n",
       "      <th>Distance_to_SanDiego</th>\n",
       "      <th>Distance_to_SanJose</th>\n",
       "      <th>Distance_to_SanFrancisco</th>\n",
       "    </tr>\n",
       "  </thead>\n",
       "  <tbody>\n",
       "    <tr>\n",
       "      <th>11130</th>\n",
       "      <td>-0.485033</td>\n",
       "      <td>0.350329</td>\n",
       "      <td>-0.066444</td>\n",
       "      <td>0.021706</td>\n",
       "      <td>0.379442</td>\n",
       "      <td>-0.145133</td>\n",
       "      <td>-0.834814</td>\n",
       "      <td>0.817970</td>\n",
       "      <td>-0.422381</td>\n",
       "      <td>-0.944821</td>\n",
       "      <td>-0.875173</td>\n",
       "      <td>0.821507</td>\n",
       "      <td>0.835623</td>\n",
       "    </tr>\n",
       "    <tr>\n",
       "      <th>5789</th>\n",
       "      <td>-0.844532</td>\n",
       "      <td>0.270854</td>\n",
       "      <td>-0.584006</td>\n",
       "      <td>-0.223200</td>\n",
       "      <td>-0.579792</td>\n",
       "      <td>-0.203091</td>\n",
       "      <td>-0.694493</td>\n",
       "      <td>0.658360</td>\n",
       "      <td>-0.261024</td>\n",
       "      <td>-1.048972</td>\n",
       "      <td>-0.723855</td>\n",
       "      <td>0.616993</td>\n",
       "      <td>0.657897</td>\n",
       "    </tr>\n",
       "    <tr>\n",
       "      <th>1246</th>\n",
       "      <td>-0.448522</td>\n",
       "      <td>1.860368</td>\n",
       "      <td>-1.120652</td>\n",
       "      <td>-1.198018</td>\n",
       "      <td>-1.150576</td>\n",
       "      <td>-1.196285</td>\n",
       "      <td>1.690963</td>\n",
       "      <td>-1.251969</td>\n",
       "      <td>1.721442</td>\n",
       "      <td>1.622265</td>\n",
       "      <td>1.560421</td>\n",
       "      <td>-0.621612</td>\n",
       "      <td>-0.875839</td>\n",
       "    </tr>\n",
       "    <tr>\n",
       "      <th>12884</th>\n",
       "      <td>-0.992255</td>\n",
       "      <td>-1.000758</td>\n",
       "      <td>0.243070</td>\n",
       "      <td>0.775629</td>\n",
       "      <td>0.361825</td>\n",
       "      <td>0.774296</td>\n",
       "      <td>1.414998</td>\n",
       "      <td>-0.882871</td>\n",
       "      <td>0.570652</td>\n",
       "      <td>1.262221</td>\n",
       "      <td>1.251368</td>\n",
       "      <td>-0.890114</td>\n",
       "      <td>-0.994981</td>\n",
       "    </tr>\n",
       "    <tr>\n",
       "      <th>6110</th>\n",
       "      <td>0.171801</td>\n",
       "      <td>0.429805</td>\n",
       "      <td>-0.220037</td>\n",
       "      <td>-0.362459</td>\n",
       "      <td>0.014775</td>\n",
       "      <td>-0.300567</td>\n",
       "      <td>-0.703848</td>\n",
       "      <td>0.837921</td>\n",
       "      <td>0.162136</td>\n",
       "      <td>-0.956737</td>\n",
       "      <td>-0.784639</td>\n",
       "      <td>0.728316</td>\n",
       "      <td>0.754407</td>\n",
       "    </tr>\n",
       "  </tbody>\n",
       "</table>\n",
       "</div>"
      ],
      "text/plain": [
       "       Median_Income  Median_Age  Tot_Rooms  Tot_Bedrooms  Population  \\\n",
       "11130      -0.485033    0.350329  -0.066444      0.021706    0.379442   \n",
       "5789       -0.844532    0.270854  -0.584006     -0.223200   -0.579792   \n",
       "1246       -0.448522    1.860368  -1.120652     -1.198018   -1.150576   \n",
       "12884      -0.992255   -1.000758   0.243070      0.775629    0.361825   \n",
       "6110        0.171801    0.429805  -0.220037     -0.362459    0.014775   \n",
       "\n",
       "       Households  Latitude  Longitude  Distance_to_coast  Distance_to_LA  \\\n",
       "11130   -0.145133 -0.834814   0.817970          -0.422381       -0.944821   \n",
       "5789    -0.203091 -0.694493   0.658360          -0.261024       -1.048972   \n",
       "1246    -1.196285  1.690963  -1.251969           1.721442        1.622265   \n",
       "12884    0.774296  1.414998  -0.882871           0.570652        1.262221   \n",
       "6110    -0.300567 -0.703848   0.837921           0.162136       -0.956737   \n",
       "\n",
       "       Distance_to_SanDiego  Distance_to_SanJose  Distance_to_SanFrancisco  \n",
       "11130             -0.875173             0.821507                  0.835623  \n",
       "5789              -0.723855             0.616993                  0.657897  \n",
       "1246               1.560421            -0.621612                 -0.875839  \n",
       "12884              1.251368            -0.890114                 -0.994981  \n",
       "6110              -0.784639             0.728316                  0.754407  "
      ]
     },
     "execution_count": 11,
     "metadata": {},
     "output_type": "execute_result"
    }
   ],
   "source": [
    "X_train.head()"
   ]
  },
  {
   "cell_type": "code",
   "execution_count": 12,
   "id": "137421b2-7cec-41e9-90ab-4e9c55fc0aaa",
   "metadata": {},
   "outputs": [
    {
     "data": {
      "text/html": [
       "<div>\n",
       "<style scoped>\n",
       "    .dataframe tbody tr th:only-of-type {\n",
       "        vertical-align: middle;\n",
       "    }\n",
       "\n",
       "    .dataframe tbody tr th {\n",
       "        vertical-align: top;\n",
       "    }\n",
       "\n",
       "    .dataframe thead th {\n",
       "        text-align: right;\n",
       "    }\n",
       "</style>\n",
       "<table border=\"1\" class=\"dataframe\">\n",
       "  <thead>\n",
       "    <tr style=\"text-align: right;\">\n",
       "      <th></th>\n",
       "      <th>Median_Income</th>\n",
       "      <th>Median_Age</th>\n",
       "      <th>Tot_Rooms</th>\n",
       "      <th>Tot_Bedrooms</th>\n",
       "      <th>Population</th>\n",
       "      <th>Households</th>\n",
       "      <th>Latitude</th>\n",
       "      <th>Longitude</th>\n",
       "      <th>Distance_to_coast</th>\n",
       "      <th>Distance_to_LA</th>\n",
       "      <th>Distance_to_SanDiego</th>\n",
       "      <th>Distance_to_SanJose</th>\n",
       "      <th>Distance_to_SanFrancisco</th>\n",
       "    </tr>\n",
       "  </thead>\n",
       "  <tbody>\n",
       "    <tr>\n",
       "      <th>3382</th>\n",
       "      <td>0.415208</td>\n",
       "      <td>0.509281</td>\n",
       "      <td>-0.862336</td>\n",
       "      <td>-0.945910</td>\n",
       "      <td>-0.929485</td>\n",
       "      <td>-0.919666</td>\n",
       "      <td>-0.647719</td>\n",
       "      <td>0.648384</td>\n",
       "      <td>-0.139746</td>\n",
       "      <td>-1.003536</td>\n",
       "      <td>-0.687937</td>\n",
       "      <td>0.573480</td>\n",
       "      <td>0.620070</td>\n",
       "    </tr>\n",
       "    <tr>\n",
       "      <th>17806</th>\n",
       "      <td>0.876529</td>\n",
       "      <td>-1.000758</td>\n",
       "      <td>0.299387</td>\n",
       "      <td>-0.019112</td>\n",
       "      <td>0.384727</td>\n",
       "      <td>0.073528</td>\n",
       "      <td>0.816296</td>\n",
       "      <td>-1.147225</td>\n",
       "      <td>-0.403731</td>\n",
       "      <td>0.904389</td>\n",
       "      <td>0.946661</td>\n",
       "      <td>-1.577612</td>\n",
       "      <td>-1.278439</td>\n",
       "    </tr>\n",
       "    <tr>\n",
       "      <th>15758</th>\n",
       "      <td>-0.339985</td>\n",
       "      <td>1.860368</td>\n",
       "      <td>-0.293110</td>\n",
       "      <td>-0.040721</td>\n",
       "      <td>-0.429168</td>\n",
       "      <td>0.005032</td>\n",
       "      <td>0.998713</td>\n",
       "      <td>-1.431530</td>\n",
       "      <td>-0.762662</td>\n",
       "      <td>1.171223</td>\n",
       "      <td>1.173711</td>\n",
       "      <td>-1.288697</td>\n",
       "      <td>-1.538625</td>\n",
       "    </tr>\n",
       "    <tr>\n",
       "      <th>20490</th>\n",
       "      <td>0.841959</td>\n",
       "      <td>-0.206001</td>\n",
       "      <td>-0.498367</td>\n",
       "      <td>-0.780239</td>\n",
       "      <td>-0.536631</td>\n",
       "      <td>-0.677295</td>\n",
       "      <td>-0.638365</td>\n",
       "      <td>0.443884</td>\n",
       "      <td>-0.274197</td>\n",
       "      <td>-0.903424</td>\n",
       "      <td>-0.605952</td>\n",
       "      <td>0.452193</td>\n",
       "      <td>0.514414</td>\n",
       "    </tr>\n",
       "    <tr>\n",
       "      <th>11771</th>\n",
       "      <td>0.094372</td>\n",
       "      <td>-1.716039</td>\n",
       "      <td>0.722932</td>\n",
       "      <td>0.511516</td>\n",
       "      <td>0.634886</td>\n",
       "      <td>0.545097</td>\n",
       "      <td>1.457094</td>\n",
       "      <td>-0.867908</td>\n",
       "      <td>0.779625</td>\n",
       "      <td>1.292512</td>\n",
       "      <td>1.276495</td>\n",
       "      <td>-0.842721</td>\n",
       "      <td>-0.958816</td>\n",
       "    </tr>\n",
       "  </tbody>\n",
       "</table>\n",
       "</div>"
      ],
      "text/plain": [
       "       Median_Income  Median_Age  Tot_Rooms  Tot_Bedrooms  Population  \\\n",
       "3382        0.415208    0.509281  -0.862336     -0.945910   -0.929485   \n",
       "17806       0.876529   -1.000758   0.299387     -0.019112    0.384727   \n",
       "15758      -0.339985    1.860368  -0.293110     -0.040721   -0.429168   \n",
       "20490       0.841959   -0.206001  -0.498367     -0.780239   -0.536631   \n",
       "11771       0.094372   -1.716039   0.722932      0.511516    0.634886   \n",
       "\n",
       "       Households  Latitude  Longitude  Distance_to_coast  Distance_to_LA  \\\n",
       "3382    -0.919666 -0.647719   0.648384          -0.139746       -1.003536   \n",
       "17806    0.073528  0.816296  -1.147225          -0.403731        0.904389   \n",
       "15758    0.005032  0.998713  -1.431530          -0.762662        1.171223   \n",
       "20490   -0.677295 -0.638365   0.443884          -0.274197       -0.903424   \n",
       "11771    0.545097  1.457094  -0.867908           0.779625        1.292512   \n",
       "\n",
       "       Distance_to_SanDiego  Distance_to_SanJose  Distance_to_SanFrancisco  \n",
       "3382              -0.687937             0.573480                  0.620070  \n",
       "17806              0.946661            -1.577612                 -1.278439  \n",
       "15758              1.173711            -1.288697                 -1.538625  \n",
       "20490             -0.605952             0.452193                  0.514414  \n",
       "11771              1.276495            -0.842721                 -0.958816  "
      ]
     },
     "execution_count": 12,
     "metadata": {},
     "output_type": "execute_result"
    }
   ],
   "source": [
    "X_test.head()"
   ]
  },
  {
   "cell_type": "code",
   "execution_count": 13,
   "id": "73f35407-7899-49fe-bb3a-cef40678553a",
   "metadata": {},
   "outputs": [
    {
     "name": "stdout",
     "output_type": "stream",
     "text": [
      "Random forest model, Train R^2: 0.9765380924832411\n",
      "Random forest model, Test R^2: 0.971459816748472\n"
     ]
    }
   ],
   "source": [
    "rf = RandomForestRegressor().fit(X_train, y_train)\n",
    "rf2 =RandomForestRegressor().fit(X_test, y_test)\n",
    "print(\"Random forest model, Train R^2:\", rf.score(X_train, y_train))\n",
    "print(\"Random forest model, Test R^2:\", rf2.score(X_test, y_test))"
   ]
  },
  {
   "cell_type": "code",
   "execution_count": 14,
   "id": "b0462537-7e41-4f30-acd4-5297bffd3f70",
   "metadata": {},
   "outputs": [
    {
     "name": "stdout",
     "output_type": "stream",
     "text": [
      "Linear regression model, Train R^2: 0.6464214594176845\n",
      "Linear regression model, Train R^2: 0.6489390752953288\n"
     ]
    }
   ],
   "source": [
    "lr = LinearRegression().fit(X_train, y_train)\n",
    "lr2 = LinearRegression().fit(X_test, y_test)\n",
    "print(\"Linear regression model, Train R^2:\", lr.score(X_train, y_train))\n",
    "print(\"Linear regression model, Train R^2:\", lr2.score(X_test, y_test))"
   ]
  },
  {
   "cell_type": "code",
   "execution_count": 15,
   "id": "eb4a5be0-bfb8-4391-9d95-cfc04dccf192",
   "metadata": {},
   "outputs": [
    {
     "name": "stdout",
     "output_type": "stream",
     "text": [
      "Lasso model, Train R^2: 0.6464209525454032\n",
      "Lasso regression model, Test R^2: 0.6489384953759173\n"
     ]
    },
    {
     "name": "stderr",
     "output_type": "stream",
     "text": [
      "C:\\Users\\seren\\anaconda3\\lib\\site-packages\\sklearn\\linear_model\\_coordinate_descent.py:647: ConvergenceWarning: Objective did not converge. You might want to increase the number of iterations, check the scale of the features or consider increasing regularisation. Duality gap: 2.356e+13, tolerance: 2.184e+10\n",
      "  model = cd_fast.enet_coordinate_descent(\n",
      "C:\\Users\\seren\\anaconda3\\lib\\site-packages\\sklearn\\linear_model\\_coordinate_descent.py:647: ConvergenceWarning: Objective did not converge. You might want to increase the number of iterations, check the scale of the features or consider increasing regularisation. Duality gap: 6.440e+12, tolerance: 5.636e+09\n",
      "  model = cd_fast.enet_coordinate_descent(\n"
     ]
    }
   ],
   "source": [
    "from sklearn.linear_model import Lasso\n",
    "la = Lasso().fit(X_train, y_train)\n",
    "la2=Lasso().fit(X_test, y_test)\n",
    "print(\"Lasso model, Train R^2:\", la.score(X_train, y_train)) \n",
    "print(\"Lasso regression model, Test R^2:\", la2.score(X_test, y_test))"
   ]
  },
  {
   "cell_type": "code",
   "execution_count": 17,
   "id": "a049a023-45ac-4d96-9b43-84e2afcb0de4",
   "metadata": {},
   "outputs": [],
   "source": [
    "from xgboost import XGBRegressor\n",
    "\n",
    "regressor = XGBRegressor()\n",
    "xg=regressor.fit(X_train, y_train)\n",
    "xg1=regressor.fit(X_test, y_test)"
   ]
  },
  {
   "cell_type": "code",
   "execution_count": 18,
   "id": "de43c27c-9a3b-4770-9088-de68d8ca04b9",
   "metadata": {},
   "outputs": [
    {
     "name": "stdout",
     "output_type": "stream",
     "text": [
      "XGBregressor model, Train R^2: 0.7989798071771814\n",
      "XGBregressor model, Test R^2: 0.9844585101704635\n"
     ]
    }
   ],
   "source": [
    "print(\"XGBregressor model, Train R^2:\", xg.score(X_train, y_train))\n",
    "print(\"XGBregressor model, Test R^2:\", xg1.score(X_test, y_test))"
   ]
  },
  {
   "cell_type": "markdown",
   "id": "e8acd719-bb35-46ff-b5b4-fc7dc82c15f4",
   "metadata": {},
   "source": [
    "R^2 value on each model"
   ]
  },
  {
   "cell_type": "code",
   "execution_count": 19,
   "id": "853c94d5-8377-4afa-84b6-c5c7510c5653",
   "metadata": {},
   "outputs": [
    {
     "data": {
      "text/plain": [
       "0.9844585101704635"
      ]
     },
     "execution_count": 19,
     "metadata": {},
     "output_type": "execute_result"
    }
   ],
   "source": [
    "#R^2 value on xgboost\n",
    "from sklearn.metrics import r2_score \n",
    "y_pred_xgboost = regressor.predict(X_test)\n",
    "r2_score(y_test, y_pred_xgboost)"
   ]
  },
  {
   "cell_type": "markdown",
   "id": "718723bc-96ff-4360-a1bf-bb97a3a712e0",
   "metadata": {},
   "source": [
    "it looks like the random forest model with higher R^2 score 0.97. it performs better than other models so I will pick this model"
   ]
  },
  {
   "cell_type": "code",
   "execution_count": 20,
   "id": "32f0be0d-24b6-4d7e-8b97-194a1eca56f2",
   "metadata": {},
   "outputs": [
    {
     "data": {
      "text/plain": [
       "{'Median_House_Value': 0.474620073111123,\n",
       " 'Median_Income': 0.030646283055767675,\n",
       " 'Median_Age': 0.01891849042469984,\n",
       " 'Tot_Rooms': 0.014335274858965463,\n",
       " 'Tot_Bedrooms': 0.021501653768525694,\n",
       " 'Population': 0.012737173614175258,\n",
       " 'Households': 0.06394525825640922,\n",
       " 'Latitude': 0.037991713772866156,\n",
       " 'Longitude': 0.20569337010353916,\n",
       " 'Distance_to_coast': 0.029499462902198122,\n",
       " 'Distance_to_LA': 0.02894157198326296,\n",
       " 'Distance_to_SanDiego': 0.02577270941590748,\n",
       " 'Distance_to_SanJose': 0.03539696473256007}"
      ]
     },
     "execution_count": 20,
     "metadata": {},
     "output_type": "execute_result"
    }
   ],
   "source": [
    "feature_importance = dict(zip(df.columns, list(rf.feature_importances_)))\n",
    "feature_importance"
   ]
  },
  {
   "cell_type": "code",
   "execution_count": 23,
   "id": "e1552c75-2314-4c89-8d4f-f359bce0b3d9",
   "metadata": {},
   "outputs": [
    {
     "data": {
      "text/plain": [
       "<AxesSubplot:title={'center':'Feature Importance (RandomForest)'}, ylabel='Relative Importance'>"
      ]
     },
     "execution_count": 23,
     "metadata": {},
     "output_type": "execute_result"
    },
    {
     "data": {
      "image/png": "[encoded data removed]",
      "text/plain": [
       "<Figure size 432x288 with 1 Axes>"
      ]
     },
     "metadata": {
      "needs_background": "light"
     },
     "output_type": "display_data"
    }
   ],
   "source": [
    "feature_df = pd.DataFrame(feature_importance, index=[0])\n",
    "feature_df.T.plot.bar(title=\"Feature Importance (RandomForest)\", ylabel='Relative Importance', legend=False)"
   ]
  },
  {
   "cell_type": "markdown",
   "id": "b217e96f-db65-4cc9-8e15-0370c6ae8093",
   "metadata": {},
   "source": [
    "Based on the graph, the importance feature that impact our CA housing price is house income, location, and households"
   ]
  },
  {
   "cell_type": "code",
   "execution_count": 24,
   "id": "5e53bb83-c3ee-41ff-8281-273b46b34e16",
   "metadata": {},
   "outputs": [],
   "source": [
    "#rf2 =RandomForestRegressor().fit(X_test, y_test)\n",
    "y_pred_random=rf2.predict(X_test)"
   ]
  },
  {
   "cell_type": "code",
   "execution_count": 26,
   "id": "70eac6c5-7e1f-4c03-b071-38a164b4fc4a",
   "metadata": {},
   "outputs": [
    {
     "data": {
      "text/plain": [
       "Text(0.5, 1.0, 'Random Forest: Predictions vs Observed Values')"
      ]
     },
     "execution_count": 26,
     "metadata": {},
     "output_type": "execute_result"
    },
    {
     "data": {
      "image/png": "[encoded data removed]",
      "text/plain": [
       "<Figure size 576x576 with 1 Axes>"
      ]
     },
     "metadata": {
      "needs_background": "light"
     },
     "output_type": "display_data"
    }
   ],
   "source": [
    "plt.subplots(figsize=(8,8))\n",
    "plt.scatter(y_pred_random,y_test,s=4, color='indianred')\n",
    "plt.plot(y_test, y_test,color='cornflowerblue', linewidth=3)\n",
    "plt.title('{}: Predictions vs Observed Values'.format(\"Random Forest\"))"
   ]
  },
  {
   "cell_type": "code",
   "execution_count": 29,
   "id": "c3886457-a5db-4610-909c-9c34b0175957",
   "metadata": {},
   "outputs": [
    {
     "name": "stdout",
     "output_type": "stream",
     "text": [
      "Accuracy score for Random Forest is 0.97, RMSE is 19739.85\n"
     ]
    }
   ],
   "source": [
    "print(\"Accuracy score for {} is {:.2f}, RMSE is {:.2f}\".\n",
    "      format(\"Random Forest\",r2_score(y_test, y_pred_random),\n",
    "             mean_squared_error(y_test, y_pred_random, squared=False)))"
   ]
  },
  {
   "cell_type": "code",
   "execution_count": null,
   "id": "0def15f1-fb7a-46b7-b084-9184a5933153",
   "metadata": {},
   "outputs": [],
   "source": []
  }
 ],
 "metadata": {
  "kernelspec": {
   "display_name": "Python 3 (ipykernel)",
   "language": "python",
   "name": "python3"
  },
  "language_info": {
   "codemirror_mode": {
    "name": "ipython",
    "version": 3
   },
   "file_extension": ".py",
   "mimetype": "text/x-python",
   "name": "python",
   "nbconvert_exporter": "python",
   "pygments_lexer": "ipython3",
   "version": "3.9.12"
  }
 },
 "nbformat": 4,
 "nbformat_minor": 5
}
