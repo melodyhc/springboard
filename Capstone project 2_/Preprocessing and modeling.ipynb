{
 "cells": [
  {
   "cell_type": "code",
   "execution_count": 1,
   "id": "8970e300-6826-424e-8721-aecd6cd93133",
   "metadata": {},
   "outputs": [],
   "source": [
    "#import packages\n",
    "import numpy as np\n",
    "import pandas as pd\n",
    "import matplotlib.pyplot as plt\n",
    "import seaborn as sns\n",
    "%matplotlib inline\n",
    "from sklearn.linear_model import LinearRegression\n",
    "from sklearn.model_selection import train_test_split\n",
    "from sklearn.ensemble import RandomForestRegressor"
   ]
  },
  {
   "cell_type": "code",
   "execution_count": 2,
   "id": "671a5543-f9fc-4f07-8bda-76e6f6c792e9",
   "metadata": {},
   "outputs": [
    {
     "data": {
      "text/plain": [
       "'C:\\\\Users\\\\seren\\\\Downloads\\\\Springboard\\\\capstone project 2\\\\Capstone project 2_'"
      ]
     },
     "execution_count": 2,
     "metadata": {},
     "output_type": "execute_result"
    }
   ],
   "source": [
    "pwd"
   ]
  },
  {
   "cell_type": "code",
   "execution_count": 3,
   "id": "38241f9c-0953-4db9-844f-d81387cd7869",
   "metadata": {},
   "outputs": [],
   "source": [
    "df = pd.read_csv('California_Houses.csv')"
   ]
  },
  {
   "cell_type": "code",
   "execution_count": 4,
   "id": "a73ea972-66eb-40a5-b902-75ae3cf1bb51",
   "metadata": {},
   "outputs": [
    {
     "name": "stdout",
     "output_type": "stream",
     "text": [
      "<class 'pandas.core.frame.DataFrame'>\n",
      "RangeIndex: 20640 entries, 0 to 20639\n",
      "Data columns (total 14 columns):\n",
      " #   Column                    Non-Null Count  Dtype  \n",
      "---  ------                    --------------  -----  \n",
      " 0   Median_House_Value        20640 non-null  float64\n",
      " 1   Median_Income             20640 non-null  float64\n",
      " 2   Median_Age                20640 non-null  int64  \n",
      " 3   Tot_Rooms                 20640 non-null  int64  \n",
      " 4   Tot_Bedrooms              20640 non-null  int64  \n",
      " 5   Population                20640 non-null  int64  \n",
      " 6   Households                20640 non-null  int64  \n",
      " 7   Latitude                  20640 non-null  float64\n",
      " 8   Longitude                 20640 non-null  float64\n",
      " 9   Distance_to_coast         20640 non-null  float64\n",
      " 10  Distance_to_LA            20640 non-null  float64\n",
      " 11  Distance_to_SanDiego      20640 non-null  float64\n",
      " 12  Distance_to_SanJose       20640 non-null  float64\n",
      " 13  Distance_to_SanFrancisco  20640 non-null  float64\n",
      "dtypes: float64(9), int64(5)\n",
      "memory usage: 2.2 MB\n"
     ]
    }
   ],
   "source": [
    "df.info()"
   ]
  },
  {
   "cell_type": "code",
   "execution_count": 5,
   "id": "b225b880-71a7-4f6c-ab52-074f6a5153c3",
   "metadata": {},
   "outputs": [],
   "source": [
    "#X = df.drop('Median_House_Value', axis=1).values\n",
    "#y = df['Median_House_Value'].values"
   ]
  },
  {
   "cell_type": "code",
   "execution_count": 6,
   "id": "1572187e-e51a-4e03-9d01-eb7a09aaf293",
   "metadata": {},
   "outputs": [
    {
     "data": {
      "text/html": [
       "<div>\n",
       "<style scoped>\n",
       "    .dataframe tbody tr th:only-of-type {\n",
       "        vertical-align: middle;\n",
       "    }\n",
       "\n",
       "    .dataframe tbody tr th {\n",
       "        vertical-align: top;\n",
       "    }\n",
       "\n",
       "    .dataframe thead th {\n",
       "        text-align: right;\n",
       "    }\n",
       "</style>\n",
       "<table border=\"1\" class=\"dataframe\">\n",
       "  <thead>\n",
       "    <tr style=\"text-align: right;\">\n",
       "      <th></th>\n",
       "      <th>Median_Income</th>\n",
       "      <th>Median_Age</th>\n",
       "      <th>Tot_Rooms</th>\n",
       "      <th>Tot_Bedrooms</th>\n",
       "      <th>Population</th>\n",
       "      <th>Households</th>\n",
       "      <th>Latitude</th>\n",
       "      <th>Longitude</th>\n",
       "      <th>Distance_to_coast</th>\n",
       "      <th>Distance_to_LA</th>\n",
       "      <th>Distance_to_SanDiego</th>\n",
       "      <th>Distance_to_SanJose</th>\n",
       "      <th>Distance_to_SanFrancisco</th>\n",
       "    </tr>\n",
       "  </thead>\n",
       "  <tbody>\n",
       "    <tr>\n",
       "      <th>0</th>\n",
       "      <td>8.3252</td>\n",
       "      <td>41</td>\n",
       "      <td>880</td>\n",
       "      <td>129</td>\n",
       "      <td>322</td>\n",
       "      <td>126</td>\n",
       "      <td>37.88</td>\n",
       "      <td>-122.23</td>\n",
       "      <td>9263.040773</td>\n",
       "      <td>556529.158342</td>\n",
       "      <td>735501.806984</td>\n",
       "      <td>67432.517001</td>\n",
       "      <td>21250.213767</td>\n",
       "    </tr>\n",
       "    <tr>\n",
       "      <th>1</th>\n",
       "      <td>8.3014</td>\n",
       "      <td>21</td>\n",
       "      <td>7099</td>\n",
       "      <td>1106</td>\n",
       "      <td>2401</td>\n",
       "      <td>1138</td>\n",
       "      <td>37.86</td>\n",
       "      <td>-122.22</td>\n",
       "      <td>10225.733072</td>\n",
       "      <td>554279.850069</td>\n",
       "      <td>733236.884360</td>\n",
       "      <td>65049.908574</td>\n",
       "      <td>20880.600400</td>\n",
       "    </tr>\n",
       "    <tr>\n",
       "      <th>2</th>\n",
       "      <td>7.2574</td>\n",
       "      <td>52</td>\n",
       "      <td>1467</td>\n",
       "      <td>190</td>\n",
       "      <td>496</td>\n",
       "      <td>177</td>\n",
       "      <td>37.85</td>\n",
       "      <td>-122.24</td>\n",
       "      <td>8259.085109</td>\n",
       "      <td>554610.717069</td>\n",
       "      <td>733525.682937</td>\n",
       "      <td>64867.289833</td>\n",
       "      <td>18811.487450</td>\n",
       "    </tr>\n",
       "    <tr>\n",
       "      <th>3</th>\n",
       "      <td>5.6431</td>\n",
       "      <td>52</td>\n",
       "      <td>1274</td>\n",
       "      <td>235</td>\n",
       "      <td>558</td>\n",
       "      <td>219</td>\n",
       "      <td>37.85</td>\n",
       "      <td>-122.25</td>\n",
       "      <td>7768.086571</td>\n",
       "      <td>555194.266086</td>\n",
       "      <td>734095.290744</td>\n",
       "      <td>65287.138412</td>\n",
       "      <td>18031.047568</td>\n",
       "    </tr>\n",
       "    <tr>\n",
       "      <th>4</th>\n",
       "      <td>3.8462</td>\n",
       "      <td>52</td>\n",
       "      <td>1627</td>\n",
       "      <td>280</td>\n",
       "      <td>565</td>\n",
       "      <td>259</td>\n",
       "      <td>37.85</td>\n",
       "      <td>-122.25</td>\n",
       "      <td>7768.086571</td>\n",
       "      <td>555194.266086</td>\n",
       "      <td>734095.290744</td>\n",
       "      <td>65287.138412</td>\n",
       "      <td>18031.047568</td>\n",
       "    </tr>\n",
       "  </tbody>\n",
       "</table>\n",
       "</div>"
      ],
      "text/plain": [
       "   Median_Income  Median_Age  Tot_Rooms  Tot_Bedrooms  Population  Households  \\\n",
       "0         8.3252          41        880           129         322         126   \n",
       "1         8.3014          21       7099          1106        2401        1138   \n",
       "2         7.2574          52       1467           190         496         177   \n",
       "3         5.6431          52       1274           235         558         219   \n",
       "4         3.8462          52       1627           280         565         259   \n",
       "\n",
       "   Latitude  Longitude  Distance_to_coast  Distance_to_LA  \\\n",
       "0     37.88    -122.23        9263.040773   556529.158342   \n",
       "1     37.86    -122.22       10225.733072   554279.850069   \n",
       "2     37.85    -122.24        8259.085109   554610.717069   \n",
       "3     37.85    -122.25        7768.086571   555194.266086   \n",
       "4     37.85    -122.25        7768.086571   555194.266086   \n",
       "\n",
       "   Distance_to_SanDiego  Distance_to_SanJose  Distance_to_SanFrancisco  \n",
       "0         735501.806984         67432.517001              21250.213767  \n",
       "1         733236.884360         65049.908574              20880.600400  \n",
       "2         733525.682937         64867.289833              18811.487450  \n",
       "3         734095.290744         65287.138412              18031.047568  \n",
       "4         734095.290744         65287.138412              18031.047568  "
      ]
     },
     "execution_count": 6,
     "metadata": {},
     "output_type": "execute_result"
    }
   ],
   "source": [
    "X = df.iloc[:,1:]\n",
    "X.head()"
   ]
  },
  {
   "cell_type": "code",
   "execution_count": 7,
   "id": "ef6a5e02-2c6b-4601-b799-8e2eb40f25ee",
   "metadata": {},
   "outputs": [
    {
     "data": {
      "text/plain": [
       "0    452600.0\n",
       "1    358500.0\n",
       "2    352100.0\n",
       "3    341300.0\n",
       "4    342200.0\n",
       "Name: Median_House_Value, dtype: float64"
      ]
     },
     "execution_count": 7,
     "metadata": {},
     "output_type": "execute_result"
    }
   ],
   "source": [
    "y = df.iloc[:, 0]\n",
    "y.head()"
   ]
  },
  {
   "cell_type": "code",
   "execution_count": 8,
   "id": "3e8a4de0-f8ca-4a53-9649-0da300872d74",
   "metadata": {},
   "outputs": [],
   "source": [
    "#split data into train 80% and test 20%\n",
    "X_train, X_test, y_train, y_test = train_test_split(X, y, test_size=0.2)"
   ]
  },
  {
   "cell_type": "code",
   "execution_count": 9,
   "id": "ce646be0-3a5d-4980-9bbd-2b56c070e46b",
   "metadata": {},
   "outputs": [
    {
     "name": "stdout",
     "output_type": "stream",
     "text": [
      "(16512, 13) (16512,)\n",
      "(4128, 13) (4128,)\n"
     ]
    }
   ],
   "source": [
    "print(X_train.shape, y_train.shape)\n",
    "print(X_test.shape, y_test.shape)"
   ]
  },
  {
   "cell_type": "code",
   "execution_count": 10,
   "id": "df06208c-60fe-42a6-9501-22a8c38c8b93",
   "metadata": {},
   "outputs": [],
   "source": [
    "#future scaling\n",
    "from sklearn.preprocessing import StandardScaler\n",
    "sc = StandardScaler()\n",
    "X_train.iloc[:, :] = sc.fit_transform(X_train.iloc[:, :])\n",
    "X_test.iloc[:, :] = sc.transform(X_test.iloc[:, :])"
   ]
  },
  {
   "cell_type": "code",
   "execution_count": 11,
   "id": "60cd102d-ed17-48f8-aacc-989dc2b4a5c5",
   "metadata": {},
   "outputs": [
    {
     "data": {
      "text/html": [
       "<div>\n",
       "<style scoped>\n",
       "    .dataframe tbody tr th:only-of-type {\n",
       "        vertical-align: middle;\n",
       "    }\n",
       "\n",
       "    .dataframe tbody tr th {\n",
       "        vertical-align: top;\n",
       "    }\n",
       "\n",
       "    .dataframe thead th {\n",
       "        text-align: right;\n",
       "    }\n",
       "</style>\n",
       "<table border=\"1\" class=\"dataframe\">\n",
       "  <thead>\n",
       "    <tr style=\"text-align: right;\">\n",
       "      <th></th>\n",
       "      <th>Median_Income</th>\n",
       "      <th>Median_Age</th>\n",
       "      <th>Tot_Rooms</th>\n",
       "      <th>Tot_Bedrooms</th>\n",
       "      <th>Population</th>\n",
       "      <th>Households</th>\n",
       "      <th>Latitude</th>\n",
       "      <th>Longitude</th>\n",
       "      <th>Distance_to_coast</th>\n",
       "      <th>Distance_to_LA</th>\n",
       "      <th>Distance_to_SanDiego</th>\n",
       "      <th>Distance_to_SanJose</th>\n",
       "      <th>Distance_to_SanFrancisco</th>\n",
       "    </tr>\n",
       "  </thead>\n",
       "  <tbody>\n",
       "    <tr>\n",
       "      <th>8944</th>\n",
       "      <td>-0.505293</td>\n",
       "      <td>1.138994</td>\n",
       "      <td>-0.673943</td>\n",
       "      <td>-0.553727</td>\n",
       "      <td>-0.917161</td>\n",
       "      <td>-0.651273</td>\n",
       "      <td>-0.757638</td>\n",
       "      <td>0.547282</td>\n",
       "      <td>-0.757010</td>\n",
       "      <td>-0.999673</td>\n",
       "      <td>-0.722977</td>\n",
       "      <td>0.610578</td>\n",
       "      <td>0.651176</td>\n",
       "    </tr>\n",
       "    <tr>\n",
       "      <th>17626</th>\n",
       "      <td>0.739144</td>\n",
       "      <td>-0.999198</td>\n",
       "      <td>0.590838</td>\n",
       "      <td>0.496533</td>\n",
       "      <td>0.413868</td>\n",
       "      <td>0.615593</td>\n",
       "      <td>0.764052</td>\n",
       "      <td>-1.186561</td>\n",
       "      <td>-0.252163</td>\n",
       "      <td>0.887551</td>\n",
       "      <td>0.931032</td>\n",
       "      <td>-1.558915</td>\n",
       "      <td>-1.254856</td>\n",
       "    </tr>\n",
       "    <tr>\n",
       "      <th>18904</th>\n",
       "      <td>-0.622252</td>\n",
       "      <td>1.297378</td>\n",
       "      <td>0.809515</td>\n",
       "      <td>1.091287</td>\n",
       "      <td>0.604522</td>\n",
       "      <td>0.971980</td>\n",
       "      <td>1.172655</td>\n",
       "      <td>-1.351451</td>\n",
       "      <td>-0.701378</td>\n",
       "      <td>1.257168</td>\n",
       "      <td>1.250850</td>\n",
       "      <td>-1.177299</td>\n",
       "      <td>-1.381123</td>\n",
       "    </tr>\n",
       "    <tr>\n",
       "      <th>6093</th>\n",
       "      <td>0.191586</td>\n",
       "      <td>0.347071</td>\n",
       "      <td>-0.265230</td>\n",
       "      <td>-0.419200</td>\n",
       "      <td>-0.314163</td>\n",
       "      <td>-0.419751</td>\n",
       "      <td>-0.705976</td>\n",
       "      <td>0.847081</td>\n",
       "      <td>0.169856</td>\n",
       "      <td>-0.943623</td>\n",
       "      <td>-0.788567</td>\n",
       "      <td>0.737476</td>\n",
       "      <td>0.761446</td>\n",
       "    </tr>\n",
       "    <tr>\n",
       "      <th>16018</th>\n",
       "      <td>1.072242</td>\n",
       "      <td>1.851724</td>\n",
       "      <td>-0.231133</td>\n",
       "      <td>-0.617451</td>\n",
       "      <td>-0.435650</td>\n",
       "      <td>-0.560225</td>\n",
       "      <td>0.989488</td>\n",
       "      <td>-1.451384</td>\n",
       "      <td>-0.702541</td>\n",
       "      <td>1.174304</td>\n",
       "      <td>1.176752</td>\n",
       "      <td>-1.297581</td>\n",
       "      <td>-1.521046</td>\n",
       "    </tr>\n",
       "  </tbody>\n",
       "</table>\n",
       "</div>"
      ],
      "text/plain": [
       "       Median_Income  Median_Age  Tot_Rooms  Tot_Bedrooms  Population  \\\n",
       "8944       -0.505293    1.138994  -0.673943     -0.553727   -0.917161   \n",
       "17626       0.739144   -0.999198   0.590838      0.496533    0.413868   \n",
       "18904      -0.622252    1.297378   0.809515      1.091287    0.604522   \n",
       "6093        0.191586    0.347071  -0.265230     -0.419200   -0.314163   \n",
       "16018       1.072242    1.851724  -0.231133     -0.617451   -0.435650   \n",
       "\n",
       "       Households  Latitude  Longitude  Distance_to_coast  Distance_to_LA  \\\n",
       "8944    -0.651273 -0.757638   0.547282          -0.757010       -0.999673   \n",
       "17626    0.615593  0.764052  -1.186561          -0.252163        0.887551   \n",
       "18904    0.971980  1.172655  -1.351451          -0.701378        1.257168   \n",
       "6093    -0.419751 -0.705976   0.847081           0.169856       -0.943623   \n",
       "16018   -0.560225  0.989488  -1.451384          -0.702541        1.174304   \n",
       "\n",
       "       Distance_to_SanDiego  Distance_to_SanJose  Distance_to_SanFrancisco  \n",
       "8944              -0.722977             0.610578                  0.651176  \n",
       "17626              0.931032            -1.558915                 -1.254856  \n",
       "18904              1.250850            -1.177299                 -1.381123  \n",
       "6093              -0.788567             0.737476                  0.761446  \n",
       "16018              1.176752            -1.297581                 -1.521046  "
      ]
     },
     "execution_count": 11,
     "metadata": {},
     "output_type": "execute_result"
    }
   ],
   "source": [
    "X_train.head()"
   ]
  },
  {
   "cell_type": "code",
   "execution_count": 12,
   "id": "137421b2-7cec-41e9-90ab-4e9c55fc0aaa",
   "metadata": {},
   "outputs": [
    {
     "data": {
      "text/html": [
       "<div>\n",
       "<style scoped>\n",
       "    .dataframe tbody tr th:only-of-type {\n",
       "        vertical-align: middle;\n",
       "    }\n",
       "\n",
       "    .dataframe tbody tr th {\n",
       "        vertical-align: top;\n",
       "    }\n",
       "\n",
       "    .dataframe thead th {\n",
       "        text-align: right;\n",
       "    }\n",
       "</style>\n",
       "<table border=\"1\" class=\"dataframe\">\n",
       "  <thead>\n",
       "    <tr style=\"text-align: right;\">\n",
       "      <th></th>\n",
       "      <th>Median_Income</th>\n",
       "      <th>Median_Age</th>\n",
       "      <th>Tot_Rooms</th>\n",
       "      <th>Tot_Bedrooms</th>\n",
       "      <th>Population</th>\n",
       "      <th>Households</th>\n",
       "      <th>Latitude</th>\n",
       "      <th>Longitude</th>\n",
       "      <th>Distance_to_coast</th>\n",
       "      <th>Distance_to_LA</th>\n",
       "      <th>Distance_to_SanDiego</th>\n",
       "      <th>Distance_to_SanJose</th>\n",
       "      <th>Distance_to_SanFrancisco</th>\n",
       "    </tr>\n",
       "  </thead>\n",
       "  <tbody>\n",
       "    <tr>\n",
       "      <th>5856</th>\n",
       "      <td>0.424665</td>\n",
       "      <td>1.297378</td>\n",
       "      <td>-0.032914</td>\n",
       "      <td>-0.051018</td>\n",
       "      <td>-0.151886</td>\n",
       "      <td>0.025083</td>\n",
       "      <td>-0.677797</td>\n",
       "      <td>0.617235</td>\n",
       "      <td>-0.326224</td>\n",
       "      <td>-1.020309</td>\n",
       "      <td>-0.697874</td>\n",
       "      <td>0.582415</td>\n",
       "      <td>0.627078</td>\n",
       "    </tr>\n",
       "    <tr>\n",
       "      <th>10653</th>\n",
       "      <td>0.508058</td>\n",
       "      <td>-1.870314</td>\n",
       "      <td>4.243335</td>\n",
       "      <td>4.617329</td>\n",
       "      <td>2.571360</td>\n",
       "      <td>3.924530</td>\n",
       "      <td>-0.964288</td>\n",
       "      <td>0.917035</td>\n",
       "      <td>-0.694605</td>\n",
       "      <td>-0.796408</td>\n",
       "      <td>-0.998735</td>\n",
       "      <td>0.985084</td>\n",
       "      <td>0.976600</td>\n",
       "    </tr>\n",
       "    <tr>\n",
       "      <th>12512</th>\n",
       "      <td>-1.254147</td>\n",
       "      <td>-0.761622</td>\n",
       "      <td>0.332608</td>\n",
       "      <td>0.635781</td>\n",
       "      <td>-0.013551</td>\n",
       "      <td>0.657214</td>\n",
       "      <td>1.374607</td>\n",
       "      <td>-0.941725</td>\n",
       "      <td>0.288220</td>\n",
       "      <td>1.247497</td>\n",
       "      <td>1.241144</td>\n",
       "      <td>-0.960136</td>\n",
       "      <td>-1.058891</td>\n",
       "    </tr>\n",
       "    <tr>\n",
       "      <th>9329</th>\n",
       "      <td>0.047773</td>\n",
       "      <td>-0.999198</td>\n",
       "      <td>0.512187</td>\n",
       "      <td>0.708945</td>\n",
       "      <td>0.495450</td>\n",
       "      <td>0.818499</td>\n",
       "      <td>1.092813</td>\n",
       "      <td>-1.451384</td>\n",
       "      <td>-0.782118</td>\n",
       "      <td>1.246280</td>\n",
       "      <td>1.239920</td>\n",
       "      <td>-1.214913</td>\n",
       "      <td>-1.465498</td>\n",
       "    </tr>\n",
       "    <tr>\n",
       "      <th>10084</th>\n",
       "      <td>0.619982</td>\n",
       "      <td>-1.711929</td>\n",
       "      <td>-0.014275</td>\n",
       "      <td>-0.338955</td>\n",
       "      <td>-0.838239</td>\n",
       "      <td>-0.887997</td>\n",
       "      <td>1.750333</td>\n",
       "      <td>-0.312145</td>\n",
       "      <td>2.987674</td>\n",
       "      <td>1.398735</td>\n",
       "      <td>1.347634</td>\n",
       "      <td>-0.370188</td>\n",
       "      <td>-0.498250</td>\n",
       "    </tr>\n",
       "  </tbody>\n",
       "</table>\n",
       "</div>"
      ],
      "text/plain": [
       "       Median_Income  Median_Age  Tot_Rooms  Tot_Bedrooms  Population  \\\n",
       "5856        0.424665    1.297378  -0.032914     -0.051018   -0.151886   \n",
       "10653       0.508058   -1.870314   4.243335      4.617329    2.571360   \n",
       "12512      -1.254147   -0.761622   0.332608      0.635781   -0.013551   \n",
       "9329        0.047773   -0.999198   0.512187      0.708945    0.495450   \n",
       "10084       0.619982   -1.711929  -0.014275     -0.338955   -0.838239   \n",
       "\n",
       "       Households  Latitude  Longitude  Distance_to_coast  Distance_to_LA  \\\n",
       "5856     0.025083 -0.677797   0.617235          -0.326224       -1.020309   \n",
       "10653    3.924530 -0.964288   0.917035          -0.694605       -0.796408   \n",
       "12512    0.657214  1.374607  -0.941725           0.288220        1.247497   \n",
       "9329     0.818499  1.092813  -1.451384          -0.782118        1.246280   \n",
       "10084   -0.887997  1.750333  -0.312145           2.987674        1.398735   \n",
       "\n",
       "       Distance_to_SanDiego  Distance_to_SanJose  Distance_to_SanFrancisco  \n",
       "5856              -0.697874             0.582415                  0.627078  \n",
       "10653             -0.998735             0.985084                  0.976600  \n",
       "12512              1.241144            -0.960136                 -1.058891  \n",
       "9329               1.239920            -1.214913                 -1.465498  \n",
       "10084              1.347634            -0.370188                 -0.498250  "
      ]
     },
     "execution_count": 12,
     "metadata": {},
     "output_type": "execute_result"
    }
   ],
   "source": [
    "X_test.head()"
   ]
  },
  {
   "cell_type": "code",
   "execution_count": 13,
   "id": "73f35407-7899-49fe-bb3a-cef40678553a",
   "metadata": {},
   "outputs": [
    {
     "data": {
      "text/plain": [
       "0.8334932703888838"
      ]
     },
     "execution_count": 13,
     "metadata": {},
     "output_type": "execute_result"
    }
   ],
   "source": [
    "rf = RandomForestRegressor().fit(X_train, y_train)\n",
    "rf.score(X_test, y_test)"
   ]
  },
  {
   "cell_type": "code",
   "execution_count": 14,
   "id": "b0462537-7e41-4f30-acd4-5297bffd3f70",
   "metadata": {},
   "outputs": [
    {
     "data": {
      "text/plain": [
       "0.6378161111012643"
      ]
     },
     "execution_count": 14,
     "metadata": {},
     "output_type": "execute_result"
    }
   ],
   "source": [
    "lr = LinearRegression().fit(X_train, y_train)\n",
    "lr.score(X_test, y_test)"
   ]
  },
  {
   "cell_type": "code",
   "execution_count": 15,
   "id": "eb4a5be0-bfb8-4391-9d95-cfc04dccf192",
   "metadata": {},
   "outputs": [
    {
     "name": "stderr",
     "output_type": "stream",
     "text": [
      "C:\\Users\\seren\\anaconda3\\lib\\site-packages\\sklearn\\linear_model\\_coordinate_descent.py:647: ConvergenceWarning: Objective did not converge. You might want to increase the number of iterations, check the scale of the features or consider increasing regularisation. Duality gap: 2.341e+13, tolerance: 2.201e+10\n",
      "  model = cd_fast.enet_coordinate_descent(\n"
     ]
    },
    {
     "data": {
      "text/plain": [
       "0.637787745866392"
      ]
     },
     "execution_count": 15,
     "metadata": {},
     "output_type": "execute_result"
    }
   ],
   "source": [
    "from sklearn.linear_model import Lasso\n",
    "la = Lasso().fit(X_train, y_train)\n",
    "la.score(X_test, y_test)"
   ]
  },
  {
   "cell_type": "code",
   "execution_count": 16,
   "id": "a049a023-45ac-4d96-9b43-84e2afcb0de4",
   "metadata": {},
   "outputs": [
    {
     "data": {
      "text/plain": [
       "XGBRegressor(base_score=0.5, booster='gbtree', callbacks=None,\n",
       "             colsample_bylevel=1, colsample_bynode=1, colsample_bytree=1,\n",
       "             early_stopping_rounds=None, enable_categorical=False,\n",
       "             eval_metric=None, feature_types=None, gamma=0, gpu_id=-1,\n",
       "             grow_policy='depthwise', importance_type=None,\n",
       "             interaction_constraints='', learning_rate=0.300000012, max_bin=256,\n",
       "             max_cat_threshold=64, max_cat_to_onehot=4, max_delta_step=0,\n",
       "             max_depth=6, max_leaves=0, min_child_weight=1, missing=nan,\n",
       "             monotone_constraints='()', n_estimators=100, n_jobs=0,\n",
       "             num_parallel_tree=1, predictor='auto', random_state=0, ...)"
      ]
     },
     "execution_count": 16,
     "metadata": {},
     "output_type": "execute_result"
    }
   ],
   "source": [
    "from xgboost import XGBRegressor\n",
    "\n",
    "regressor = XGBRegressor()\n",
    "regressor.fit(X_train, y_train)"
   ]
  },
  {
   "cell_type": "code",
   "execution_count": 18,
   "id": "de43c27c-9a3b-4770-9088-de68d8ca04b9",
   "metadata": {},
   "outputs": [
    {
     "data": {
      "text/plain": [
       "0.8342009020324609"
      ]
     },
     "execution_count": 18,
     "metadata": {},
     "output_type": "execute_result"
    }
   ],
   "source": [
    "regressor.score(X_test, y_test)"
   ]
  },
  {
   "cell_type": "markdown",
   "id": "e8acd719-bb35-46ff-b5b4-fc7dc82c15f4",
   "metadata": {},
   "source": [
    "#R^2 value on each model"
   ]
  },
  {
   "cell_type": "code",
   "execution_count": 22,
   "id": "853c94d5-8377-4afa-84b6-c5c7510c5653",
   "metadata": {},
   "outputs": [
    {
     "data": {
      "text/plain": [
       "0.8342009020324609"
      ]
     },
     "execution_count": 22,
     "metadata": {},
     "output_type": "execute_result"
    }
   ],
   "source": [
    "#R^2 value on xgboost\n",
    "from sklearn.metrics import r2_score \n",
    "y_pred_xgboost = regressor.predict(X_test)\n",
    "r2_score(y_test, y_pred_xgboost)"
   ]
  },
  {
   "cell_type": "markdown",
   "id": "718723bc-96ff-4360-a1bf-bb97a3a712e0",
   "metadata": {},
   "source": [
    "it looks like the xgboost with R^2 0.834 and random forest model with R^2 0.833 perform better than other models"
   ]
  }
 ],
 "metadata": {
  "kernelspec": {
   "display_name": "Python 3 (ipykernel)",
   "language": "python",
   "name": "python3"
  },
  "language_info": {
   "codemirror_mode": {
    "name": "ipython",
    "version": 3
   },
   "file_extension": ".py",
   "mimetype": "text/x-python",
   "name": "python",
   "nbconvert_exporter": "python",
   "pygments_lexer": "ipython3",
   "version": "3.9.12"
  }
 },
 "nbformat": 4,
 "nbformat_minor": 5
}
